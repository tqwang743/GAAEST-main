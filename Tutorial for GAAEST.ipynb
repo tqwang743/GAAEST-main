{
 "cells": [
  {
   "cell_type": "markdown",
   "metadata": {
    "id": "7oxYlk7vJoQ7"
   },
   "source": [
    "# [1] Basic settings"
   ]
  },
  {
   "cell_type": "code",
   "execution_count": null,
   "metadata": {
    "id": "NV0WwDttFztZ"
   },
   "outputs": [],
   "source": [
    "# Run device, by default, the package is implemented on 'cpu'. We recommend using GPU.\n",
    "device = torch.device('cuda:0' if torch.cuda.is_available() else 'cpu')\n",
    "# the location of R, which is necessary for mclust algorithm. Please replace the path below with local R installation path\n",
    "os.environ['R_HOME'] = '/content/R-bag/R-4.0.3'\n",
    "# the number of clusters\n",
    "n_clusters = 7\n",
    "dataset = '151673'\n",
    "save_model_file = '/content/GAAEST-main/weights.pth'"
   ]
  },
  {
   "cell_type": "markdown",
   "metadata": {
    "id": "Mtzzub78FztZ"
   },
   "source": [
    "# [2] Read data"
   ]
  },
  {
   "cell_type": "code",
   "execution_count": null,
   "metadata": {
    "id": "zqqyig4XFzta"
   },
   "outputs": [],
   "source": [
    "file_fold = '/content/GAAEST-main/Data/' + str(dataset) #please replace 'file_fold' with the download path\n",
    "adata = sc.read_visium(file_fold, count_file='filtered_feature_bc_matrix.h5', load_images=True)\n",
    "adata.var_names_make_unique()"
   ]
  },
  {
   "cell_type": "markdown",
   "metadata": {
    "id": "tka2Koi2Fzta"
   },
   "source": [
    "# [3] Train model"
   ]
  },
  {
   "cell_type": "code",
   "execution_count": null,
   "metadata": {
    "id": "R5eDIHRDFzta"
   },
   "outputs": [],
   "source": [
    "# define model\n",
    "model = GAAEST.GAAEST(adata, device=device,epochs=600,alpha=10,beta=1,gama=1,lane=1,save_model_file=save_model_file)\n",
    "\n",
    "# train model\n",
    "adata = model.train()"
   ]
  },
  {
   "cell_type": "markdown",
   "metadata": {
    "id": "5Oo5lVf-Fztb"
   },
   "source": [
    "# [4] clustering"
   ]
  },
  {
   "cell_type": "code",
   "execution_count": null,
   "metadata": {
    "id": "qDiqDvitFztb"
   },
   "outputs": [],
   "source": [
    "from GAAEST.utils import clustering\n",
    "# set radius to specify the number of neighbors considered during refinement\n",
    "radius = 50\n",
    "tool = 'mclust' # mclust, leiden, and louvain\n",
    "\n",
    "if tool == 'mclust':\n",
    "   clustering(adata, n_clusters, radius=radius, method=tool, refinement=True) # For DLPFC dataset, we use optional refinement step.\n",
    "elif tool in ['leiden', 'louvain']:\n",
    "   clustering(adata, n_clusters, radius=radius, method=tool, start=0.1, end=1.0, increment=0.01, refinement=True)"
   ]
  },
  {
   "cell_type": "markdown",
   "metadata": {
    "id": "DF0czLPCFztc"
   },
   "source": [
    "# [5] add ground_truth"
   ]
  },
  {
   "cell_type": "code",
   "execution_count": null,
   "metadata": {
    "id": "POPdILamFztc"
   },
   "outputs": [],
   "source": [
    "import pandas as pd\n",
    "# add ground_truth\n",
    "df_meta = pd.read_csv(file_fold + '/metadata.tsv', sep='\\t')\n",
    "df_meta_layer = df_meta['layer_guess']\n",
    "adata.obs['ground_truth'] = df_meta_layer.values\n",
    "# filter out NA nodes\n",
    "adata = adata[~pd.isnull(adata.obs['ground_truth'])]"
   ]
  },
  {
   "cell_type": "markdown",
   "metadata": {
    "id": "P8FkDWaFLe9j"
   },
   "source": [
    "# [6] calculate metric"
   ]
  },
  {
   "cell_type": "code",
   "execution_count": null,
   "metadata": {
    "id": "Bw02LCiaFztc"
   },
   "outputs": [],
   "source": [
    "# calculate metric\n",
    "ARI = metrics.adjusted_rand_score(adata.obs['domain'], adata.obs['ground_truth'])\n",
    "NMI= metrics.normalized_mutual_info_score(adata.obs['domain'], adata.obs['ground_truth'])\n",
    "AMI = metrics.adjusted_mutual_info_score(adata.obs['domain'], adata.obs['ground_truth'])\n",
    "FM = metrics.fowlkes_mallows_score(adata.obs['domain'], adata.obs['ground_truth'])\n",
    "\n",
    "adata.uns['ARI'] = ARI\n",
    "adata.uns['NMI'] = NMI\n",
    "adata.uns['AMI'] = AMI\n",
    "adata.uns['FM'] = FM\n",
    "\n",
    "print('Dataset:', dataset)\n",
    "print('ARI:', ARI)\n",
    "print('NMI:', NMI)\n",
    "print('AMI:', AMI)\n",
    "print('FM:', FM)"
   ]
  },
  {
   "cell_type": "markdown",
   "metadata": {
    "id": "QXpDsxU9Fztd"
   },
   "source": [
    "# [7] plotting spatial clustering result\n"
   ]
  },
  {
   "cell_type": "markdown",
   "metadata": {
    "id": "oOxyOHC7Ln1Q"
   },
   "source": [
    "Spatial domian recognition"
   ]
  },
  {
   "cell_type": "code",
   "execution_count": null,
   "metadata": {
    "id": "41AA0tpwFztd"
   },
   "outputs": [],
   "source": [
    "# plotting spatial clustering result\n",
    "sc.pl.spatial(adata,\n",
    "              img_key=\"hires\",\n",
    "              color=[\"ground_truth\", \"domain\"],\n",
    "              title=[\"ground_truth\", \"ARI=%.4f\"%ARI+\" NMI=%.4f\"%NMI+\" AMI=%.4f\"%AMI+\" FM=%.4f\"%FM],\n",
    "              show=True)"
   ]
  },
  {
   "cell_type": "markdown",
   "metadata": {
    "id": "BWMcHf-1Fztd"
   },
   "source": [
    "② UMAP and PAGA"
   ]
  },
  {
   "cell_type": "code",
   "execution_count": null,
   "metadata": {
    "id": "a9Kd-9w9Fztd"
   },
   "outputs": [],
   "source": [
    "#UMAP\n",
    "sc.pp.neighbors(adata, use_rep='emb')\n",
    "sc.tl.umap(adata)"
   ]
  },
  {
   "cell_type": "code",
   "execution_count": null,
   "metadata": {
    "id": "gPVp1qH8Fztd"
   },
   "outputs": [],
   "source": [
    "used_adata = adata[adata.obs['ground_truth']!='nan',]"
   ]
  },
  {
   "cell_type": "code",
   "execution_count": null,
   "metadata": {
    "id": "vpAONk0dFztd"
   },
   "outputs": [],
   "source": [
    "##PAGA\n",
    "sc.tl.paga(used_adata, groups='domain')"
   ]
  },
  {
   "cell_type": "code",
   "execution_count": null,
   "metadata": {
    "id": "QigBDKXVFzte"
   },
   "outputs": [],
   "source": [
    "import matplotlib.pyplot as plt\n",
    "plt.rcParams[\"figure.figsize\"] = (4,3)\n",
    "sc.pl.paga_compare(used_adata, legend_fontsize=10, frameon=False, size=20,\n",
    "                   title=dataset+'_GAAEST', legend_fontoutline=2, threshold=0.3 ,show=True)"
   ]
  }
 ],
 "metadata": {
  "colab": {
   "authorship_tag": "ABX9TyMKiApUyn3zE0JHt2RFG9zo",
   "provenance": []
  },
  "kernelspec": {
   "display_name": "Python 3",
   "name": "python3"
  },
  "language_info": {
   "name": "python"
  }
 },
 "nbformat": 4,
 "nbformat_minor": 0
}
